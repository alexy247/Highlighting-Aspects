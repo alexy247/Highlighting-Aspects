{
 "cells": [
  {
   "cell_type": "code",
   "execution_count": 2,
   "metadata": {
    "colab": {
     "base_uri": "https://localhost:8080/"
    },
    "id": "vfz48YUViD-M",
    "outputId": "464d9627-9e6d-4700-bff0-322edca87541"
   },
   "outputs": [],
   "source": [
    "from rutermextract import TermExtractor\n",
    "from flashtext.keyword import KeywordProcessor"
   ]
  },
  {
   "cell_type": "code",
   "execution_count": 125,
   "metadata": {
    "id": "K4CJ10rslsEu"
   },
   "outputs": [],
   "source": [
    "def getAspects():\n",
    "  f = open('aspects.txt', 'r')\n",
    "  content = f.read()\n",
    "  f.close()\n",
    "  return content.split(\";\")\n",
    "\n",
    "aspects = getAspects()"
   ]
  },
  {
   "cell_type": "markdown",
   "metadata": {
    "id": "g_-yMiB8ly5J"
   },
   "source": [
    "Тестовые задания:"
   ]
  },
  {
   "cell_type": "code",
   "execution_count": 126,
   "metadata": {
    "id": "hO1cMoPvlu7U"
   },
   "outputs": [],
   "source": [
    "TASK_1 = \"На клетчатой бумаге с размером клетки 1×1 изображён параллелограмм. Найдите длину его меньшей диагонали.\"\n",
    "TASK_1_FULL = \"На клетчатой бумаге с размером клетки 1×1 изображён параллелограмм. Найдите длину его меньшей диагонали. Проведем дополнительные построения, как показано на рисунке. Найдём длину диагонали по теореме Пифагора: BD.\"\n",
    "TASK_1_ASPECTS = [\"Рисунок на клетчатой бумаге\", \"Параллелограмм\", \"Теорема Пифагора\"]\n",
    "\n",
    "TASK_2 = \"На клавиатуре телефона 10 цифр, от 0 до 9. Какова вероятность того, что случайно нажатая цифра будет чётной?\"\n",
    "TASK_2_FULL = \"На клавиатуре телефона 10 цифр, от 0 до 9. Какова вероятность того, что случайно нажатая цифра будет чётной? На клавиатуре телефона 10 цифр, из них 5 четных: 0, 2, 4, 6, 8. Поэтому вероятность того, что случайно будет нажата четная цифра, равна 5 : 10 = 0,5.\"\n",
    "TASK_2_ASPECTS = [\"Классическая вероятность\"]\n",
    "\n",
    "TASK_3 = \"В треугольнике ABC угол C равен 90°,  тангенс A = дробь, числитель — 33, знаменатель — 4 корень из { 33 }, АС = 4. Найдите АВ.\"\n",
    "TASK_3_FULL = \"В треугольнике ABC угол C равен 90°,  тангенс A = дробь, числитель — 33, знаменатель — 4 корень из { 33 }, АС = 4. Найдите АВ. Имеем: AB = дробь, числитель — AC, знаменатель — косинус A = дробь, числитель — AC, знаменатель — корень из { дробь, числитель — 1 {1 плюс тангенс в степени 2, знаменатель — A }}= дробь, числитель — 4, знаменатель — корень из { дробь, числитель — 1 {1 плюс дробь, числитель — 33, знаменатель — 16 , знаменатель — } }=4 умножить на корень из { дробь, числитель — 49, знаменатель — 16 }=7.\"\n",
    "TASK_3_ASPECTS = [\"Прямоугольный треугольник\", \"Тангенс\" ]"
   ]
  },
  {
   "cell_type": "code",
   "execution_count": 107,
   "metadata": {
    "id": "Ds1NZSpnlyhh"
   },
   "outputs": [],
   "source": [
    "# Примитивный поиск подстроки в строке\n",
    "def search_simple(haystack, needle):\n",
    "    index = -1\n",
    "    for i in range(len(haystack)-len(needle)+1):\n",
    "        success = True\n",
    "        for j in range(len(needle)):\n",
    "            if needle[j]!=haystack[i+j]:\n",
    "                success = False\n",
    "                break\n",
    "        if success:\n",
    "            index = i\n",
    "            break\n",
    "    return haystack[index: index + len(needle)]"
   ]
  },
  {
   "cell_type": "code",
   "execution_count": 108,
   "metadata": {
    "id": "8hIb-BNZl88x"
   },
   "outputs": [],
   "source": [
    "# Поиск подстроки в строке алгоритмом Кнута–Морриса-Пратта\n",
    "# def search_kmp(haystack, needle):\n",
    "def search_kmp(text, pattern):\n",
    "    pattern = list(pattern)\n",
    "\n",
    "    shifts = [1] * (len(pattern) + 1)\n",
    "    shift = 1\n",
    "    for pos in range(len(pattern)):\n",
    "        while shift <= pos and pattern[pos] != pattern[pos-shift]:\n",
    "            shift += shifts[pos-shift]\n",
    "        shifts[pos+1] = shift\n",
    "\n",
    "    # do the actual search\n",
    "    startPos = 0\n",
    "    matchLen = 0\n",
    "    for c in text:\n",
    "        while matchLen == len(pattern) or \\\n",
    "              matchLen >= 0 and pattern[matchLen] != c:\n",
    "            startPos += shifts[matchLen]\n",
    "            matchLen -= shifts[matchLen]\n",
    "        matchLen += 1\n",
    "        if matchLen == len(pattern):\n",
    "            return text[startPos: startPos + len(pattern)]"
   ]
  },
  {
   "cell_type": "code",
   "execution_count": 109,
   "metadata": {
    "id": "g4A6HTNkmB83"
   },
   "outputs": [],
   "source": [
    "# Поиск ключевых слов, используя словарь. Библиотека flashtext\n",
    "def search_flashtext(haystack, needle):\n",
    "    keyword_processor = KeywordProcessor()\n",
    "    for aspect in aspects:\n",
    "        keyword_processor.add_keyword(aspect)\n",
    "    keywords_found = keyword_processor.extract_keywords(haystack)\n",
    "    return keywords_found"
   ]
  },
  {
   "cell_type": "code",
   "execution_count": 150,
   "metadata": {
    "id": "mrbFwuMEmJ_F"
   },
   "outputs": [],
   "source": [
    "# Поиск ключевых слов. Библиотека rutermextract\n",
    "def search_rutermextract(haystack):\n",
    "    result = []\n",
    "    term_extractor = TermExtractor()\n",
    "    for term in term_extractor(haystack):\n",
    "        result.append(term.normalized + \" \" + str(term.count))\n",
    "    return result"
   ]
  },
  {
   "cell_type": "markdown",
   "metadata": {},
   "source": [
    "<h2> 1. Результаты работы алгоритмов, используя для анализа только задание.</h2>"
   ]
  },
  {
   "cell_type": "markdown",
   "metadata": {},
   "source": [
    "<h3> 1.1. Результат алгоритмов библиотеки FlashText</h3>"
   ]
  },
  {
   "cell_type": "code",
   "execution_count": 127,
   "metadata": {},
   "outputs": [
    {
     "name": "stdout",
     "output_type": "stream",
     "text": [
      "Result for task is  ['Параллелограмм']\n",
      "Result for task is  ['Вероятность']\n",
      "Result for task is  ['Тангенс']\n"
     ]
    }
   ],
   "source": [
    "for task in [TASK_1, TASK_2, TASK_3]:\n",
    "  result = search_flashtext(task, aspects)\n",
    "  print(\"Result for task is \", result)"
   ]
  },
  {
   "cell_type": "markdown",
   "metadata": {},
   "source": [
    "<h3> 1.2. Результаты алгоритмов библиотеки Rutermextract</h3>"
   ]
  },
  {
   "cell_type": "code",
   "execution_count": 151,
   "metadata": {},
   "outputs": [
    {
     "name": "stdout",
     "output_type": "stream",
     "text": [
      "Result for task is  ['размер клетки 1', 'малейшая диагональ 1', 'клетчатая бумага 1', 'параллелограмм 1', 'длина 1']\n",
      "Result for task is  ['нажатая цифра 1', 'клавиатура телефона 1', '10 цифр 1', 'вероятность 1']\n",
      "Result for task is  ['угол c 1', 'треугольник abc 1', 'тангенс a 1', '4 корень 1', 'числитель 1', 'знаменатель 1', 'дробь 1', 'ас 1', 'авы 1']\n"
     ]
    }
   ],
   "source": [
    "for task in [TASK_1, TASK_2, TASK_3]:\n",
    "  result = search_rutermextract(task)\n",
    "  print(\"Result for task is \", result)"
   ]
  },
  {
   "cell_type": "markdown",
   "metadata": {
    "id": "lOdn6KWUmcdd"
   },
   "source": [
    "<h3> 1.3. Результат примитивного поиска</h3>"
   ]
  },
  {
   "cell_type": "code",
   "execution_count": 129,
   "metadata": {
    "colab": {
     "base_uri": "https://localhost:8080/"
    },
    "id": "vLU7CQwcmpbg",
    "outputId": "efb3d189-bb27-45b0-a33f-956b30bd89f6"
   },
   "outputs": [
    {
     "name": "stdout",
     "output_type": "stream",
     "text": [
      "Result for task is  []\n",
      "Result for task is  []\n",
      "Result for task is  []\n"
     ]
    }
   ],
   "source": [
    "for task in [TASK_1, TASK_2, TASK_3]:\n",
    "  result = []\n",
    "  for aspect in aspects:\n",
    "    res_iter = search_simple(task, aspect)\n",
    "    if (res_iter):\n",
    "      result.append(res_iter)\n",
    "  print(\"Result for task is \", result)"
   ]
  },
  {
   "cell_type": "markdown",
   "metadata": {},
   "source": [
    "<h3> 1.4. Результат алгоритма Кнута-Морриса-Прата</h3>"
   ]
  },
  {
   "cell_type": "code",
   "execution_count": 130,
   "metadata": {
    "colab": {
     "base_uri": "https://localhost:8080/"
    },
    "id": "wPVyetBypNmf",
    "outputId": "a236b413-c61b-408e-9dd5-aa289aa12374"
   },
   "outputs": [
    {
     "name": "stdout",
     "output_type": "stream",
     "text": [
      "Result for task is  []\n",
      "Result for task is  []\n",
      "Result for task is  []\n"
     ]
    }
   ],
   "source": [
    "for task in [TASK_1, TASK_2, TASK_3]:\n",
    "  result = []\n",
    "  for aspect in aspects:\n",
    "    res_iter = search_kmp(task, aspect)\n",
    "    if (res_iter):\n",
    "      result.append(res_iter)\n",
    "  print(\"Result for task is \", result)"
   ]
  },
  {
   "cell_type": "markdown",
   "metadata": {
    "id": "LwuaC1cRpNe3"
   },
   "source": [
    "*Используем предобработку данных для работы алгоритмов по поиску подстроки в строке*"
   ]
  },
  {
   "cell_type": "code",
   "execution_count": 131,
   "metadata": {
    "colab": {
     "base_uri": "https://localhost:8080/"
    },
    "id": "CbWeAZxNr3Km",
    "outputId": "818c7099-04d9-4b8f-d005-2f37ca62f7e8"
   },
   "outputs": [
    {
     "name": "stderr",
     "output_type": "stream",
     "text": [
      "[nltk_data] Downloading package stopwords to\n",
      "[nltk_data]     /Users/alena.ogloblina/nltk_data...\n",
      "[nltk_data]   Package stopwords is already up-to-date!\n"
     ]
    }
   ],
   "source": [
    "import nltk\n",
    "nltk.download(\"stopwords\")\n",
    "from nltk.corpus import stopwords\n",
    "from pymystem3 import Mystem\n",
    "from string import punctuation"
   ]
  },
  {
   "cell_type": "code",
   "execution_count": 132,
   "metadata": {
    "id": "TdNBotRfr8gq"
   },
   "outputs": [],
   "source": [
    "mystem = Mystem() \n",
    "russian_stopwords = stopwords.words(\"russian\")"
   ]
  },
  {
   "cell_type": "code",
   "execution_count": 133,
   "metadata": {
    "id": "o-gUNaSnsFvd"
   },
   "outputs": [],
   "source": [
    "def preprocess_text(text):\n",
    "  tokens = mystem.lemmatize(text.lower())\n",
    "  tokens = [token for token in tokens if token not in russian_stopwords\\\n",
    "            and token != \" \" \\\n",
    "            and token.strip() not in punctuation]\n",
    "  \n",
    "  text = \" \".join(tokens)\n",
    "  return text"
   ]
  },
  {
   "cell_type": "code",
   "execution_count": 134,
   "metadata": {
    "colab": {
     "base_uri": "https://localhost:8080/",
     "height": 443
    },
    "id": "OwJNPhmXsKA-",
    "outputId": "82eb02e0-6200-4ed6-8357-7efd7fbe78e2"
   },
   "outputs": [],
   "source": [
    "TASK_LEMMS = [preprocess_text(TASK_1), preprocess_text(TASK_2), preprocess_text(TASK_3)]\n",
    "TASK_FULL_LEMMS = [preprocess_text(TASK_1_FULL), preprocess_text(TASK_2_FULL), preprocess_text(TASK_3_FULL)]"
   ]
  },
  {
   "cell_type": "code",
   "execution_count": 135,
   "metadata": {
    "colab": {
     "base_uri": "https://localhost:8080/",
     "height": 443
    },
    "id": "Ri8nQwa3tRA4",
    "outputId": "4974d169-1628-48d9-d946-716f34cd0975"
   },
   "outputs": [],
   "source": [
    "lem_aspect = []\n",
    "\n",
    "for aspect in aspects:\n",
    "  res = preprocess_text(aspect)\n",
    "  lem_aspect.append(res)"
   ]
  },
  {
   "cell_type": "markdown",
   "metadata": {},
   "source": [
    "Алгоритм примитивного поиска после лемматизации задания и аспектов:"
   ]
  },
  {
   "cell_type": "code",
   "execution_count": 145,
   "metadata": {
    "colab": {
     "base_uri": "https://localhost:8080/",
     "height": 164
    },
    "id": "dtWfJl9esPu0",
    "outputId": "395bfdd8-3b36-49a0-fe72-f2eaeffa371c"
   },
   "outputs": [
    {
     "name": "stdout",
     "output_type": "stream",
     "text": [
      "Result for task is  ['параллелограмм']\n",
      "Result for task is  ['вероятность']\n",
      "Result for task is  ['тангенс']\n"
     ]
    }
   ],
   "source": [
    "for task in TASK_LEMMS:\n",
    "  result = []\n",
    "  for aspect in lem_aspect:\n",
    "    res_iter = search_simple(task, aspect)\n",
    "    if (res_iter):\n",
    "      result.append(res_iter)\n",
    "  print(\"Result for task is \", result)"
   ]
  },
  {
   "cell_type": "markdown",
   "metadata": {},
   "source": [
    "Алгоритм поиска Кнутта-Морриса-Прата после лемматизации задания и аспектов:"
   ]
  },
  {
   "cell_type": "code",
   "execution_count": 142,
   "metadata": {},
   "outputs": [
    {
     "name": "stdout",
     "output_type": "stream",
     "text": [
      "Result for task is  ['параллелограмм']\n",
      "Result for task is  ['вероятность']\n",
      "Result for task is  ['тангенс']\n"
     ]
    }
   ],
   "source": [
    "for task in TASK_LEMMS:\n",
    "  result = []\n",
    "  for aspect in lem_aspect:\n",
    "    res_iter = search_kmp(task, aspect)\n",
    "    if (res_iter):\n",
    "      result.append(res_iter)\n",
    "  print(\"Result for task is \", result)"
   ]
  },
  {
   "cell_type": "markdown",
   "metadata": {},
   "source": [
    "<h2> 2. Результаты работы алгоритмов, используя для анализа задание и решение.</h2>"
   ]
  },
  {
   "cell_type": "code",
   "execution_count": 153,
   "metadata": {},
   "outputs": [
    {
     "name": "stdout",
     "output_type": "stream",
     "text": [
      "Result for task is  ['Параллелограмм']\n",
      "Result for task is  ['Вероятность', 'Вероятность']\n",
      "Result for task is  ['Тангенс', 'Синус', 'Тангенс']\n"
     ]
    }
   ],
   "source": [
    "for task in [TASK_1_FULL, TASK_2_FULL, TASK_3_FULL]:\n",
    "  result = search_flashtext(task, aspects)\n",
    "  print(\"Result for task is \", result)"
   ]
  },
  {
   "cell_type": "code",
   "execution_count": 154,
   "metadata": {},
   "outputs": [
    {
     "name": "stdout",
     "output_type": "stream",
     "text": [
      "Result for task is  ['длина 2', 'теорема пифагора 1', 'размер клетки 1', 'малейшая диагональ 1', 'клетчатая бумага 1', 'дополнительные построение 1', 'рисунок 1', 'параллелограмм 1', 'диагональ 1', 'bd 1']\n",
      "Result for task is  ['клавиатура телефона 2', '10 цифр 2', 'вероятность 2', 'чётная цифра 1', 'нажатая цифра 1']\n",
      "Result for task is  ['числитель 8', 'знаменатель 8', 'дробь 8', 'корень 3', 'ac 2', 'угол c 1', 'треугольник abc 1', 'тангенс a 1', 'косинус a 1', '4 корень 1', 'тангенс 1', 'степень 1', 'ас 1', 'авы 1', 'ab 1', 'a 1']\n"
     ]
    }
   ],
   "source": [
    "for task in [TASK_1_FULL, TASK_2_FULL, TASK_3_FULL]:\n",
    "  result = search_rutermextract(task)\n",
    "  print(\"Result for task is \", result)"
   ]
  },
  {
   "cell_type": "code",
   "execution_count": 155,
   "metadata": {},
   "outputs": [
    {
     "name": "stdout",
     "output_type": "stream",
     "text": [
      "Result for task is  ['теорема пифагор', 'параллелограмм']\n",
      "Result for task is  ['вероятность']\n",
      "Result for task is  ['синус', 'тангенс']\n"
     ]
    }
   ],
   "source": [
    "for task in TASK_FULL_LEMMS:\n",
    "  result = []\n",
    "  for aspect in lem_aspect:\n",
    "    res_iter = search_simple(task, aspect)\n",
    "    if (res_iter):\n",
    "      result.append(res_iter)\n",
    "  print(\"Result for task is \", result)"
   ]
  },
  {
   "cell_type": "code",
   "execution_count": 156,
   "metadata": {},
   "outputs": [
    {
     "name": "stdout",
     "output_type": "stream",
     "text": [
      "Result for task is  ['теорема пифагор', 'параллелограмм']\n",
      "Result for task is  ['вероятность']\n",
      "Result for task is  ['синус', 'тангенс']\n"
     ]
    }
   ],
   "source": [
    "for task in TASK_FULL_LEMMS:\n",
    "  result = []\n",
    "  for aspect in lem_aspect:\n",
    "    res_iter = search_kmp(task, aspect)\n",
    "    if (res_iter):\n",
    "      result.append(res_iter)\n",
    "  print(\"Result for task is \", result)"
   ]
  }
 ],
 "metadata": {
  "colab": {
   "collapsed_sections": [],
   "name": "Exp_1.ipynb",
   "provenance": []
  },
  "kernelspec": {
   "display_name": "Python 3",
   "language": "python",
   "name": "python3"
  },
  "language_info": {
   "codemirror_mode": {
    "name": "ipython",
    "version": 3
   },
   "file_extension": ".py",
   "mimetype": "text/x-python",
   "name": "python",
   "nbconvert_exporter": "python",
   "pygments_lexer": "ipython3",
   "version": "3.9.5"
  }
 },
 "nbformat": 4,
 "nbformat_minor": 1
}