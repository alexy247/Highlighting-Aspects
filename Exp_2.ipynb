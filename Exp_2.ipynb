{
 "cells": [
  {
   "cell_type": "code",
   "execution_count": 79,
   "metadata": {},
   "outputs": [
    {
     "name": "stderr",
     "output_type": "stream",
     "text": [
      "[nltk_data] Downloading package stopwords to\n",
      "[nltk_data]     /Users/alena.ogloblina/nltk_data...\n",
      "[nltk_data]   Package stopwords is already up-to-date!\n"
     ]
    }
   ],
   "source": [
    "import json\n",
    "import time\n",
    "import numpy\n",
    "import nltk\n",
    "nltk.download(\"stopwords\")\n",
    "from nltk.corpus import stopwords\n",
    "from pymystem3 import Mystem\n",
    "from string import punctuation"
   ]
  },
  {
   "cell_type": "code",
   "execution_count": 113,
   "metadata": {},
   "outputs": [],
   "source": [
    "from rutermextract import TermExtractor\n",
    "from flashtext.keyword import KeywordProcessor"
   ]
  },
  {
   "cell_type": "code",
   "execution_count": 50,
   "metadata": {},
   "outputs": [],
   "source": [
    "def getData():\n",
    "    data = []\n",
    "    with open('data.txt', 'r') as f:\n",
    "        for line in f:\n",
    "            data.append(json.loads(str(line)))\n",
    "    return data"
   ]
  },
  {
   "cell_type": "code",
   "execution_count": 60,
   "metadata": {},
   "outputs": [],
   "source": [
    "def getAspects():\n",
    "  f = open('aspects.txt', 'r')\n",
    "  content = f.read()\n",
    "  f.close()\n",
    "  return content.split(\";\")"
   ]
  },
  {
   "cell_type": "code",
   "execution_count": 64,
   "metadata": {},
   "outputs": [],
   "source": [
    "def getLemmAspects():\n",
    "    lem_aspect = []\n",
    "    for aspect in aspects:\n",
    "        res = prepare_text(aspect)\n",
    "        lem_aspect.append(res) \n",
    "    return lem_aspect"
   ]
  },
  {
   "cell_type": "code",
   "execution_count": 65,
   "metadata": {},
   "outputs": [],
   "source": [
    "def prepare_text(text):\n",
    "  tokens = mystem.lemmatize(text.lower())\n",
    "  tokens = [token for token in tokens if token not in russian_stopwords\\\n",
    "            and token != \" \" \\\n",
    "            and token.strip() not in punctuation]\n",
    "  \n",
    "  text = \" \".join(tokens)\n",
    "  return text"
   ]
  },
  {
   "cell_type": "code",
   "execution_count": 66,
   "metadata": {},
   "outputs": [],
   "source": [
    "mystem = Mystem() \n",
    "russian_stopwords = stopwords.words(\"russian\")"
   ]
  },
  {
   "cell_type": "code",
   "execution_count": 67,
   "metadata": {},
   "outputs": [],
   "source": [
    "data = getData()\n",
    "aspects = getAspects()\n",
    "aspects_lemm = getLemmAspects()"
   ]
  },
  {
   "cell_type": "markdown",
   "metadata": {},
   "source": [
    "<h2> 1. Примитивный поиск подстроки в строке </h2>"
   ]
  },
  {
   "cell_type": "code",
   "execution_count": 54,
   "metadata": {},
   "outputs": [],
   "source": [
    "data_lemm = [prepare_text(data_item['dec']) for data_item in data]"
   ]
  },
  {
   "cell_type": "code",
   "execution_count": 69,
   "metadata": {},
   "outputs": [],
   "source": [
    "def search_simple(haystack, needle):\n",
    "    index = -1\n",
    "    for i in range(len(haystack)-len(needle)+1):\n",
    "        success = True\n",
    "        for j in range(len(needle)):\n",
    "            if needle[j]!=haystack[i+j]:\n",
    "                success = False\n",
    "                break\n",
    "        if success:\n",
    "            index = i\n",
    "            break\n",
    "    return index != -1"
   ]
  },
  {
   "cell_type": "code",
   "execution_count": 224,
   "metadata": {},
   "outputs": [],
   "source": [
    "def CalculateStatsForSimpleSarch():\n",
    "    res_task = []\n",
    "    rub_task = []\n",
    "    time_task = []\n",
    "\n",
    "    for task_index in range(0, len(data_lemm)):\n",
    "        start_time = time.time()\n",
    "        res_aspect = []\n",
    "        for aspect_index in range(0, len(aspects_lemm)):\n",
    "            if search_simple(data_lemm[task_index], aspects_lemm[aspect_index]):\n",
    "                res_aspect.append(aspects[aspect_index])\n",
    "\n",
    "        time_task.append(time.time() - start_time)\n",
    "        sum = 0\n",
    "        rub = 0\n",
    "\n",
    "        real_aspects = data[task_index]['asp'].split(\", \")\n",
    "        for res_asp in res_aspect:\n",
    "            if (res_asp in real_aspects):\n",
    "                sum += 1\n",
    "            else:\n",
    "                rub += 1\n",
    "        if (len(res_aspect)!=0):\n",
    "            res_task.append(sum/len(real_aspects))\n",
    "            rub_task.append(rub/len(res_aspect))\n",
    "        else:\n",
    "            res_task.append(0)\n",
    "            rub_task.append(0)\n",
    "    return numpy.mean(res_task), numpy.mean(rub_task), numpy.mean(time_task)"
   ]
  },
  {
   "cell_type": "code",
   "execution_count": 225,
   "metadata": {},
   "outputs": [
    {
     "name": "stdout",
     "output_type": "stream",
     "text": [
      "(0.19097744360902255, 0.11278195488721804, 0.02898113351119192)\n"
     ]
    }
   ],
   "source": [
    "print(CalculateStatsForSimpleSarch())"
   ]
  },
  {
   "cell_type": "markdown",
   "metadata": {},
   "source": [
    "<h2> 2. Поиск подстроки в строке алгоритмом Кунна-Морриса-Прата</h2>"
   ]
  },
  {
   "cell_type": "code",
   "execution_count": 226,
   "metadata": {},
   "outputs": [],
   "source": [
    "def search_kmp(text, pattern):\n",
    "    pattern = list(pattern)\n",
    "\n",
    "    shifts = [1] * (len(pattern) + 1)\n",
    "    shift = 1\n",
    "    for pos in range(len(pattern)):\n",
    "        while shift <= pos and pattern[pos] != pattern[pos-shift]:\n",
    "            shift += shifts[pos-shift]\n",
    "        shifts[pos+1] = shift\n",
    "\n",
    "    # do the actual search\n",
    "    startPos = 0\n",
    "    matchLen = 0\n",
    "    for c in text:\n",
    "        while matchLen == len(pattern) or \\\n",
    "              matchLen >= 0 and pattern[matchLen] != c:\n",
    "            startPos += shifts[matchLen]\n",
    "            matchLen -= shifts[matchLen]\n",
    "        matchLen += 1\n",
    "        if matchLen == len(pattern):\n",
    "            return startPos != 0"
   ]
  },
  {
   "cell_type": "code",
   "execution_count": 227,
   "metadata": {},
   "outputs": [],
   "source": [
    "def CalculateStatsForKMP():\n",
    "    res_task = []\n",
    "    rub_task = []\n",
    "    time_task = []\n",
    "\n",
    "    for task_index in range(0, len(data_lemm)):\n",
    "        start_time = time.time()\n",
    "        res_aspect = []\n",
    "        for aspect_index in range(0, len(aspects_lemm)):\n",
    "            if search_kmp(data_lemm[task_index], aspects_lemm[aspect_index]):\n",
    "                res_aspect.append(aspects[aspect_index])\n",
    "\n",
    "        time_task.append(time.time() - start_time)\n",
    "        sum = 0\n",
    "        rub = 0\n",
    "\n",
    "        real_aspects = data[task_index]['asp'].split(\", \")\n",
    "        for res_asp in res_aspect:\n",
    "            if (res_asp in real_aspects):\n",
    "                sum += 1\n",
    "            else:\n",
    "                rub += 1\n",
    "        if (len(res_aspect)!=0):\n",
    "            res_task.append(sum/len(real_aspects))\n",
    "            rub_task.append(rub/len(res_aspect))\n",
    "        else:\n",
    "            res_task.append(0)\n",
    "            rub_task.append(0)\n",
    "    return numpy.mean(res_task), numpy.mean(rub_task), numpy.mean(time_task)"
   ]
  },
  {
   "cell_type": "code",
   "execution_count": 228,
   "metadata": {},
   "outputs": [
    {
     "name": "stdout",
     "output_type": "stream",
     "text": [
      "(0.18721804511278195, 0.11403508771929827, 0.03290329481426038)\n"
     ]
    }
   ],
   "source": [
    "print(CalculateStatsForKMP())"
   ]
  },
  {
   "cell_type": "markdown",
   "metadata": {},
   "source": [
    "<h2> 3. Выделение ключевых слов с помощью библиотеки FlashText</h2>"
   ]
  },
  {
   "cell_type": "code",
   "execution_count": 121,
   "metadata": {},
   "outputs": [],
   "source": [
    "keyword_processor = KeywordProcessor()\n",
    "for aspect in aspects:\n",
    "    keyword_processor.add_keyword(aspect)\n",
    "\n",
    "def search_flashtext(haystack):\n",
    "    keywords_found = keyword_processor.extract_keywords(haystack)\n",
    "    return keywords_found"
   ]
  },
  {
   "cell_type": "code",
   "execution_count": 229,
   "metadata": {},
   "outputs": [],
   "source": [
    "def CalculateStatsForFlashText():\n",
    "    res_task = []\n",
    "    rub_task = []\n",
    "    time_task = []\n",
    "\n",
    "    for task in data:\n",
    "        start_time = time.time()\n",
    "        res_aspect = []\n",
    "\n",
    "        res = search_flashtext(task['dec'])\n",
    "        if res != \"\":\n",
    "            res_aspect = res\n",
    "            \n",
    "        time_task.append(time.time() - start_time)\n",
    "        sum = 0\n",
    "        rub = 0\n",
    "\n",
    "        real_aspects = task['asp'].split(\", \")\n",
    "        for res_asp in res_aspect:\n",
    "            if (res_asp in real_aspects):\n",
    "                sum += 1\n",
    "            else:\n",
    "                rub += 1\n",
    "        if (len(res_aspect)!=0):\n",
    "            res_task.append(sum/len(real_aspects))\n",
    "            rub_task.append(rub/len(res_aspect))\n",
    "        else:\n",
    "            res_task.append(0)\n",
    "            rub_task.append(0)\n",
    "    return numpy.mean(res_task), numpy.mean(rub_task), numpy.mean(time_task)"
   ]
  },
  {
   "cell_type": "code",
   "execution_count": 230,
   "metadata": {},
   "outputs": [
    {
     "name": "stdout",
     "output_type": "stream",
     "text": [
      "(0.2662907268170426, 0.03508771929824561, 0.0005381860231098376)\n"
     ]
    }
   ],
   "source": [
    "print(CalculateStatsForFlashText())"
   ]
  },
  {
   "cell_type": "markdown",
   "metadata": {},
   "source": [
    "<h2> 4. Выделение ключевых слов с помощью библиотеки Rutermextract</h2>"
   ]
  },
  {
   "cell_type": "code",
   "execution_count": 136,
   "metadata": {},
   "outputs": [],
   "source": [
    "def search_rutermextract(haystack):\n",
    "    result = []\n",
    "    term_extractor = TermExtractor()\n",
    "    for term in term_extractor(haystack):\n",
    "        result.append(term.normalized)\n",
    "    return result"
   ]
  },
  {
   "cell_type": "code",
   "execution_count": 141,
   "metadata": {},
   "outputs": [],
   "source": [
    "import difflib"
   ]
  },
  {
   "cell_type": "code",
   "execution_count": 167,
   "metadata": {},
   "outputs": [],
   "source": [
    "def CalculateStatsForRutermextract():\n",
    "    res_task = []\n",
    "    rub_task = []\n",
    "    time_task = []\n",
    "\n",
    "    for task in data:\n",
    "        start_time = time.time()\n",
    "        res_aspect = []\n",
    "\n",
    "        res = search_rutermextract(task['dec'])\n",
    "        if res != \"\":\n",
    "            for res_item in res:\n",
    "                neibor = difflib.get_close_matches(res_item, aspects, n=1)\n",
    "                if len(neibor)!= 0:\n",
    "                    res_aspect.append(neibor[0])\n",
    "            \n",
    "        time_task.append(time.time() - start_time)\n",
    "        sum = 0\n",
    "        rub = 0\n",
    "\n",
    "        real_aspects = task['asp'].split(\", \")\n",
    "        for res_asp in res_aspect:\n",
    "            if (res_asp in real_aspects):\n",
    "                sum += 1\n",
    "            else:\n",
    "                rub += 1\n",
    "        if (len(res_aspect)!=0):\n",
    "            res_task.append(sum/len(real_aspects))\n",
    "            rub_task.append(rub/len(res_aspect))\n",
    "        else:\n",
    "            res_task.append(0)\n",
    "            rub_task.append(0)\n",
    "    return numpy.mean(res_task), numpy.mean(rub_task), numpy.mean(time_task)"
   ]
  },
  {
   "cell_type": "code",
   "execution_count": 168,
   "metadata": {},
   "outputs": [
    {
     "name": "stdout",
     "output_type": "stream",
     "text": [
      "(0.4197994987468672, 0.6011085405822248, 0.13258710660432516)\n"
     ]
    }
   ],
   "source": [
    "print(CalculateStatsForRutermextract())"
   ]
  },
  {
   "cell_type": "markdown",
   "metadata": {},
   "source": [
    "<h2>Модифицированная версия подстроки в строке.</h2>"
   ]
  },
  {
   "cell_type": "code",
   "execution_count": 232,
   "metadata": {},
   "outputs": [],
   "source": [
    "def CalculateStatsForSimpleSarchModify(k):\n",
    "    res_task = []\n",
    "    rub_task = []\n",
    "    time_task = []\n",
    "\n",
    "    for task_index in range(0, len(data_lemm)):\n",
    "        start_time = time.time()\n",
    "        res_aspect = []\n",
    "        for aspect_index in range(0, len(aspects_lemm)):\n",
    "            aspect_list = aspects_lemm[aspect_index].split(\" \")\n",
    "            i = 0\n",
    "            for aspect_item in aspect_list:\n",
    "                if search_simple(data_lemm[task_index], aspect_item):\n",
    "                    i += 1\n",
    "            if i/len(aspect_list) > k:\n",
    "                res_aspect.append(aspects[aspect_index])\n",
    "\n",
    "        time_task.append(time.time() - start_time)\n",
    "        sum = 0\n",
    "        rub = 0\n",
    "\n",
    "        real_aspects = data[task_index]['asp'].split(\", \")\n",
    "        for res_asp in res_aspect:\n",
    "            if (res_asp in real_aspects):\n",
    "                sum += 1\n",
    "            else:\n",
    "                rub += 1\n",
    "        if (len(res_aspect)!=0):\n",
    "            res_task.append(sum/len(real_aspects))\n",
    "            rub_task.append(rub/len(res_aspect))\n",
    "        else:\n",
    "            res_task.append(0)\n",
    "            rub_task.append(0)\n",
    "    return numpy.mean(res_task), numpy.mean(rub_task), numpy.mean(time_task)"
   ]
  },
  {
   "cell_type": "code",
   "execution_count": 233,
   "metadata": {},
   "outputs": [
    {
     "name": "stdout",
     "output_type": "stream",
     "text": [
      "(0.34636591478696743, 0.4095864661654135, 0.0889842384739926)\n"
     ]
    }
   ],
   "source": [
    "print(CalculateStatsForSimpleSarchModify(0.5))"
   ]
  },
  {
   "cell_type": "code",
   "execution_count": 235,
   "metadata": {},
   "outputs": [],
   "source": [
    "def CalculateStatsForKMPSarchModify(k):\n",
    "    res_task = []\n",
    "    rub_task = []\n",
    "    time_task = []\n",
    "\n",
    "    for task_index in range(0, len(data_lemm)):\n",
    "        start_time = time.time()\n",
    "        res_aspect = []\n",
    "        for aspect_index in range(0, len(aspects_lemm)):\n",
    "            aspect_list = aspects_lemm[aspect_index].split(\" \")\n",
    "            i = 0\n",
    "            for aspect_item in aspect_list:\n",
    "                if search_kmp(data_lemm[task_index], aspect_item):\n",
    "                    i += 1\n",
    "            if i/len(aspect_list) > k:\n",
    "                res_aspect.append(aspects[aspect_index])\n",
    "\n",
    "        time_task.append(time.time() - start_time)\n",
    "        sum = 0\n",
    "        rub = 0\n",
    "\n",
    "        real_aspects = data[task_index]['asp'].split(\", \")\n",
    "        for res_asp in res_aspect:\n",
    "            if (res_asp in real_aspects):\n",
    "                sum += 1\n",
    "            else:\n",
    "                rub += 1\n",
    "        if (len(res_aspect)!=0):\n",
    "            res_task.append(sum/len(real_aspects))\n",
    "            rub_task.append(rub/len(res_aspect))\n",
    "        else:\n",
    "            res_task.append(0)\n",
    "            rub_task.append(0)\n",
    "    return [numpy.mean(res_task), numpy.mean(rub_task), numpy.mean(time_task)]"
   ]
  },
  {
   "cell_type": "code",
   "execution_count": 236,
   "metadata": {},
   "outputs": [
    {
     "name": "stdout",
     "output_type": "stream",
     "text": [
      "[0.5482456140350878, 0.7824898699511703, 0.08070642069766396]\n"
     ]
    }
   ],
   "source": [
    "print(CalculateStatsForKMPSarchModify(0.4))"
   ]
  },
  {
   "cell_type": "code",
   "execution_count": 194,
   "metadata": {},
   "outputs": [],
   "source": [
    "import matplotlib.pyplot as plt"
   ]
  },
  {
   "cell_type": "code",
   "execution_count": 214,
   "metadata": {},
   "outputs": [],
   "source": [
    "x = []\n",
    "y1 = []\n",
    "y2 = []\n",
    "y3 = []\n",
    "\n",
    "def plotForKMPStats():\n",
    "    for k in numpy.arange(0,1,0.1):\n",
    "        res = CalculateStatsForKMPSarchModify(k)\n",
    "        x.append(k)\n",
    "        y1.append(res[0])\n",
    "        y2.append(res[1])\n",
    "        y3.append(res[2])\n",
    "\n",
    "plotForKMPStats()"
   ]
  },
  {
   "cell_type": "code",
   "execution_count": 216,
   "metadata": {},
   "outputs": [
    {
     "data": {
      "image/png": "[encoded data removed]",
      "text/plain": "<Figure size 864x504 with 1 Axes>"
     },
     "metadata": {
      "needs_background": "light"
     },
     "output_type": "display_data"
    }
   ],
   "source": [
    "plt.figure(figsize=(12, 7))\n",
    "plt.plot(x, y1, label=\"Точность определения\")\n",
    "plt.plot(x, y2, label=\"Процент мусора\")\n",
    "plt.plot(x, y3, label=\"Среднее время для одного задания\")\n",
    "plt.legend()\n",
    "plt.grid(True)  "
   ]
  },
  {
   "cell_type": "code",
   "execution_count": 220,
   "metadata": {},
   "outputs": [],
   "source": [
    "x_1 = []\n",
    "y_1 = []\n",
    "y_2 = []\n",
    "y_3 = []\n",
    "\n",
    "def plotForSimpleStats():\n",
    "    for k in numpy.arange(0,1,0.1):\n",
    "        res = CalculateStatsForSimpleSarchModify(k)\n",
    "        x_1.append(k)\n",
    "        y_1.append(res[0])\n",
    "        y_2.append(res[1])\n",
    "        y_3.append(res[2])\n",
    "\n",
    "plotForSimpleStats()"
   ]
  },
  {
   "cell_type": "code",
   "execution_count": 221,
   "metadata": {},
   "outputs": [
    {
     "data": {
      "image/png": "[encoded data removed]",
      "text/plain": "<Figure size 864x504 with 1 Axes>"
     },
     "metadata": {
      "needs_background": "light"
     },
     "output_type": "display_data"
    }
   ],
   "source": [
    "plt.figure(figsize=(12, 7))\n",
    "plt.plot(x_1, y_1, label=\"Точность определения\")\n",
    "plt.plot(x_1, y_2, label=\"Процент мусора\")\n",
    "plt.plot(x_1, y_3, label=\"Среднее время для одного задания\")\n",
    "plt.legend()\n",
    "plt.grid(True)"
   ]
  }
 ],
 "metadata": {
  "kernelspec": {
   "display_name": "Python 3.9.5 64-bit",
   "name": "python395jvsc74a57bd0aee8b7b246df8f9039afb4144a1f6fd8d2ca17a180786b69acc140d282b71a49"
  },
  "language_info": {
   "codemirror_mode": {
    "name": "ipython",
    "version": 3
   },
   "file_extension": ".py",
   "mimetype": "text/x-python",
   "name": "python",
   "nbconvert_exporter": "python",
   "pygments_lexer": "ipython3",
   "version": "3.9.5"
  },
  "metadata": {
   "interpreter": {
    "hash": "aee8b7b246df8f9039afb4144a1f6fd8d2ca17a180786b69acc140d282b71a49"
   }
  }
 },
 "nbformat": 4,
 "nbformat_minor": 5
}